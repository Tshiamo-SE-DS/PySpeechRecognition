{
 "cells": [
  {
   "cell_type": "code",
   "execution_count": 1,
   "id": "0463d8b8-db70-4cb4-99ab-c0bc423fd614",
   "metadata": {},
   "outputs": [],
   "source": [
    "import speech_recognition\n",
    "import pyttsx3\n",
    "import webbrowser"
   ]
  },
  {
   "cell_type": "code",
   "execution_count": 13,
   "id": "9ba7b6b2-1acf-44e1-8c52-a8a306ad5aa2",
   "metadata": {},
   "outputs": [
    {
     "name": "stdout",
     "output_type": "stream",
     "text": [
      "Please say something to open...\n",
      " Hearing.....\n",
      "You asked to open: www.betway.com\n"
     ]
    }
   ],
   "source": [
    "if __name__ == \"__main__\":\n",
    "    path = \"C:/Program Files (x86)/Microsoft/Edge/Application/msedge.exe %s\"\n",
    "    sr = speech_recognition.Recognizer()\n",
    "    with speech_recognition.Microphone() as source:\n",
    "        sr.adjust_for_ambient_noise(source)\n",
    "        print(\"Please say something to open...\")\n",
    "        audio = sr.listen(source)\n",
    "        print(\" Hearing.....\")\n",
    "        try:\n",
    "            destination = sr.recognize_google(audio)\n",
    "            print(\"You asked to open: \"+destination)\n",
    "            webbrowser.get(path).open(destination)\n",
    "        except Exception as e:\n",
    "            print(\"error : \"+str(e))\n",
    "            "
   ]
  },
  {
   "cell_type": "code",
   "execution_count": null,
   "id": "7ea1a274-fd91-4f48-b080-1b04ea20e39e",
   "metadata": {},
   "outputs": [],
   "source": []
  }
 ],
 "metadata": {
  "kernelspec": {
   "display_name": "Python 3 (ipykernel)",
   "language": "python",
   "name": "python3"
  },
  "language_info": {
   "codemirror_mode": {
    "name": "ipython",
    "version": 3
   },
   "file_extension": ".py",
   "mimetype": "text/x-python",
   "name": "python",
   "nbconvert_exporter": "python",
   "pygments_lexer": "ipython3",
   "version": "3.12.7"
  }
 },
 "nbformat": 4,
 "nbformat_minor": 5
}
